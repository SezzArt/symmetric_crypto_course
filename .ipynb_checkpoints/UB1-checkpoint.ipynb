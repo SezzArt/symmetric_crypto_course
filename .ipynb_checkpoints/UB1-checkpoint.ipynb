{
 "cells": [
  {
   "cell_type": "code",
   "execution_count": 11,
   "id": "8877fc1b-1b65-4212-9f89-ceac9f2cf8a9",
   "metadata": {},
   "outputs": [],
   "source": [
    "input_string = \"AZAFH DXKEB EEGEL LFMKZ ZQEKV LQIIY AXNHB JFPGP FQBXL FQQZO LKNHB JTMLH LNIVR SEMGZ WANVV EBTXA WTMEW DQALU WEAAH VPMLJ WZLXK MBWGO AYBHI WSQGD AFPAL VULGV LWVHD OUBAH FKKXY LMQGA QFPTA LTQLD SEVBU WFMXU WUOAA QRWNY AFUNZ LNMKV MZLTI GGBMO SFLTA WEQGJ WTMPH KRIBY DKANY WFPTA ZUATN WIILA ZUZMF FUVXH FPPXI WXQXC WPBAH LTMAH VNMXU TAZGP FZQGL LQMGM GDBRM GGZHY FUVXA WQVYV JFGYP NQJNA AFETZ FQDXY HAALP TXMGV OMLTF KFWIP FPWPU SZGWH LQEBA ZUVTF WMZHY LIW\".replace(\" \",\"\")\n",
    "string_length = len(input_string)"
   ]
  },
  {
   "cell_type": "markdown",
   "id": "756cc311-2f81-48f1-94f2-6ed71f8c29b6",
   "metadata": {},
   "source": [
    "Find substrings of length 3-5 with its occurence number"
   ]
  },
  {
   "cell_type": "code",
   "execution_count": 37,
   "id": "a0d2dc1b-4800-4b3d-9a1b-366d6f85d651",
   "metadata": {},
   "outputs": [],
   "source": [
    "candidates = {}\n",
    "for substring_length in range(3,6):\n",
    "    for i in range(string_length-substring_length+1):\n",
    "        current_substring = input_string[i:i+substring_length]\n",
    "        if current_substring not in candidates:\n",
    "            candidates[current_substring] = input_string.count(current_substring)"
   ]
  },
  {
   "cell_type": "markdown",
   "id": "51c5f302-45f1-4452-a289-8e95c97f1134",
   "metadata": {},
   "source": [
    "Get the 4 values that repeat most often"
   ]
  },
  {
   "cell_type": "code",
   "execution_count": 42,
   "id": "40d0188b-388d-4de4-af93-7275e7779b01",
   "metadata": {},
   "outputs": [
    {
     "data": {
      "text/plain": [
       "[('AZU', 3), ('NHB', 2), ('HBJ', 2), ('GPF', 2)]"
      ]
     },
     "execution_count": 42,
     "metadata": {},
     "output_type": "execute_result"
    }
   ],
   "source": [
    "sorted(candidates.items(),key=lambda x:x[1],reverse=True)[0:4]"
   ]
  },
  {
   "cell_type": "markdown",
   "id": "8c04cf7b-dded-40df-8ccd-2ef226270c0e",
   "metadata": {},
   "source": [
    "Start with \"AZU\""
   ]
  },
  {
   "cell_type": "code",
   "execution_count": 56,
   "id": "e27909e2-6204-4e90-aad5-32deb1ed90f2",
   "metadata": {},
   "outputs": [
    {
     "name": "stdout",
     "output_type": "stream",
     "text": [
      "232\n",
      "242\n",
      "367\n"
     ]
    }
   ],
   "source": [
    "s = \"AZU\"\n",
    "current_string = input_string\n",
    "global_index=0\n",
    "for i in range(3):\n",
    "    index =  current_string.find(s)\n",
    "    global_index=global_index+3+index\n",
    "    print(global_index)\n",
    "    current_string = current_string[index+3:]"
   ]
  },
  {
   "cell_type": "markdown",
   "id": "fe767932-e74f-480c-97ee-b4c4214e037f",
   "metadata": {},
   "source": [
    "The differences are 10 and 125. gcd(10,125)=5 and is a candidate for the length of the keyword. To be sure, lets verify some more candidates:"
   ]
  },
  {
   "cell_type": "code",
   "execution_count": 59,
   "id": "16ca06b7-d31f-4389-a9b3-c264c956a161",
   "metadata": {},
   "outputs": [
    {
     "name": "stdout",
     "output_type": "stream",
     "text": [
      "35\n",
      "55\n",
      "57\n"
     ]
    }
   ],
   "source": [
    "s = \"NHB\"\n",
    "current_string = input_string\n",
    "global_index=0\n",
    "for i in range(3):\n",
    "    index =  current_string.find(s)\n",
    "    global_index=global_index+3+index\n",
    "    print(global_index)\n",
    "    current_string = current_string[index+3:]"
   ]
  },
  {
   "cell_type": "markdown",
   "id": "f1efea17-f304-4b6b-8e10-bb779af2516b",
   "metadata": {},
   "source": [
    "For \"NHB\" the candidates are 20 and 2. 20 works with running hypothesis, 2 doesnt."
   ]
  },
  {
   "cell_type": "code",
   "execution_count": 60,
   "id": "d520cda4-b161-4197-998b-0fbd3f9b5c57",
   "metadata": {},
   "outputs": [
    {
     "name": "stdout",
     "output_type": "stream",
     "text": [
      "36\n",
      "56\n",
      "58\n"
     ]
    }
   ],
   "source": [
    "s = \"HBJ\"\n",
    "current_string = input_string\n",
    "global_index=0\n",
    "for i in range(3):\n",
    "    index =  current_string.find(s)\n",
    "    global_index=global_index+3+index\n",
    "    print(global_index)\n",
    "    current_string = current_string[index+3:]"
   ]
  },
  {
   "cell_type": "markdown",
   "id": "d9bf7d98-fc87-48c6-a0ab-892c5961347d",
   "metadata": {},
   "source": [
    "For \"HBJ\" the candidates are 20 and 2. 20 works with running hypothesis, 2 doesnt.\n",
    "Let's assume the key is 5 long, otherwise we can come back to the 2."
   ]
  },
  {
   "cell_type": "code",
   "execution_count": 62,
   "id": "46338115-74be-4afb-93b3-cd106e7dfc50",
   "metadata": {},
   "outputs": [],
   "source": [
    "keylength = 5"
   ]
  },
  {
   "cell_type": "markdown",
   "id": "e5447d6b-6297-4e9a-a1d9-0613c15e5381",
   "metadata": {},
   "source": [
    "For each key-element, create a list of occurences of each letter."
   ]
  },
  {
   "cell_type": "code",
   "execution_count": 85,
   "id": "15459778-19e6-4453-8aa3-e5d066f21300",
   "metadata": {},
   "outputs": [],
   "source": [
    "list=[]\n",
    "for offset in range(keylength):\n",
    "    occurences = {chr(j): 0 for j in range(ord('A'), ord('Z')+1)}\n",
    "    for letter in range(offset, string_length, 5):\n",
    "        occurences[input_string[letter]]+=1\n",
    "    list.append(occurences)"
   ]
  },
  {
   "cell_type": "markdown",
   "id": "0fa4036a-005b-4606-8b8a-397a49736b52",
   "metadata": {},
   "source": [
    "For each key-element print the two most often appearing letters"
   ]
  },
  {
   "cell_type": "code",
   "execution_count": 125,
   "id": "41d29943-8fb7-4b9a-8b5c-1b9ea2903f66",
   "metadata": {},
   "outputs": [
    {
     "name": "stdout",
     "output_type": "stream",
     "text": [
      "[('W', 15), ('L', 12)]\n",
      "[('F', 11), ('Q', 10)]\n",
      "[('M', 12), ('Q', 7)]\n",
      "[('G', 11), ('X', 11)]\n",
      "[('A', 10), ('H', 9)]\n"
     ]
    }
   ],
   "source": [
    "freq_list=[]\n",
    "for i in list:\n",
    "    freq_list.append(sorted(i.items(),key=lambda x:x[1],reverse=True)[0:2])\n",
    "    print(sorted(i.items(),key=lambda x:x[1],reverse=True)[0:2])"
   ]
  },
  {
   "cell_type": "markdown",
   "id": "e11466de-427b-44fe-9a33-58fd68ef34f6",
   "metadata": {},
   "source": [
    "Two most appearing letters in German and English language:\n",
    "Ger : E-17%, N-10%\n",
    "Eng : E-11%, A-8,5%\n",
    "\n",
    "Observe G and X have the same probability"
   ]
  },
  {
   "cell_type": "markdown",
   "id": "15b5a24e-5df3-43a6-8974-1b8815658e9e",
   "metadata": {},
   "source": [
    "Starting with key-element 0, assume W (alternative L) is decrypted to E:"
   ]
  },
  {
   "cell_type": "code",
   "execution_count": 155,
   "id": "a64cb529-4e8f-4c30-b9cd-7eba43fa2003",
   "metadata": {},
   "outputs": [],
   "source": [
    "key = []\n",
    "alternative = []\n",
    "for i in range(5):\n",
    "    diff=(ord(freq_list[i][0][0]) - ord('E'))%26\n",
    "    key.append(chr(ord('A') + diff))\n",
    "    diff=(ord(freq_list[i][1][0]) - ord('E'))%26\n",
    "    alternative.append(chr(ord('A') + diff))"
   ]
  },
  {
   "cell_type": "code",
   "execution_count": 156,
   "id": "0eea6af1-6184-48a3-8009-68f5ea266913",
   "metadata": {},
   "outputs": [
    {
     "name": "stdout",
     "output_type": "stream",
     "text": [
      "['S', 'B', 'I', 'C', 'W']\n",
      "['H', 'M', 'M', 'T', 'D']\n"
     ]
    }
   ],
   "source": [
    "print(key)\n",
    "print(alternative)"
   ]
  },
  {
   "cell_type": "code",
   "execution_count": 157,
   "id": "fa1acdde-7aae-40d7-af0e-f779b21ead03",
   "metadata": {},
   "outputs": [
    {
     "name": "stdout",
     "output_type": "stream",
     "text": [
      "[['S', 'H'], [], [], [], []]\n",
      "[['S', 'H'], ['B', 'M'], [], [], []]\n",
      "[['S', 'H'], ['B', 'M'], ['I', 'M'], [], []]\n",
      "[['S', 'H'], ['B', 'M'], ['I', 'M'], ['C', 'T'], []]\n",
      "[['S', 'H'], ['B', 'M'], ['I', 'M'], ['C', 'T'], ['W', 'D']]\n"
     ]
    }
   ],
   "source": [
    "key_candidates = [[] for i in range(5)]\n",
    "for i in range(5):\n",
    "    key_candidates[i].append(key[i])\n",
    "    key_candidates[i].append(alternative[i])"
   ]
  },
  {
   "cell_type": "markdown",
   "id": "d9376ea7-009b-41f2-b9f0-414335f544e1",
   "metadata": {},
   "source": [
    "Starting with key-element 0, assume W (alternative L) is decrypted to A:"
   ]
  },
  {
   "cell_type": "code",
   "execution_count": 158,
   "id": "7c0c3c0f-757c-4114-b192-ceb6e022fd8f",
   "metadata": {},
   "outputs": [],
   "source": [
    "key = []\n",
    "alternative = []\n",
    "for i in range(5):\n",
    "    diff=(ord(freq_list[i][0][0]) - ord('A'))%26\n",
    "    key.append(chr(ord('A') + diff))\n",
    "    diff=(ord(freq_list[i][1][0]) - ord('A'))%26\n",
    "    alternative.append(chr(ord('A') + diff))"
   ]
  },
  {
   "cell_type": "code",
   "execution_count": 159,
   "id": "b4c15f32-52f8-4f86-8ca0-9241b9458fe5",
   "metadata": {},
   "outputs": [
    {
     "name": "stdout",
     "output_type": "stream",
     "text": [
      "['W', 'F', 'M', 'G', 'A']\n",
      "['L', 'Q', 'Q', 'X', 'H']\n"
     ]
    }
   ],
   "source": [
    "print(key)\n",
    "print(alternative)\n",
    "for i in range(5):\n",
    "    key_candidates[i].append(key[i])\n",
    "    key_candidates[i].append(alternative[i])"
   ]
  },
  {
   "cell_type": "code",
   "execution_count": 160,
   "id": "1452587c-3074-4d72-97c6-eb9ba7b55ad3",
   "metadata": {},
   "outputs": [
    {
     "data": {
      "text/plain": [
       "[['S', 'H', 'W', 'L'],\n",
       " ['B', 'M', 'F', 'Q'],\n",
       " ['I', 'M', 'M', 'Q'],\n",
       " ['C', 'T', 'G', 'X'],\n",
       " ['W', 'D', 'A', 'H']]"
      ]
     },
     "execution_count": 160,
     "metadata": {},
     "output_type": "execute_result"
    }
   ],
   "source": [
    "key_candidates"
   ]
  },
  {
   "cell_type": "code",
   "execution_count": 201,
   "id": "12169815-d231-40dc-97e6-30177938b860",
   "metadata": {},
   "outputs": [],
   "source": [
    "def decrypt(key, ciphertext = input_string):\n",
    "    key_length= len(key)\n",
    "    plaintext = \"\"\n",
    "    for i in range(len(ciphertext)):\n",
    "        key_letter = key[i%key_length]\n",
    "        diff=(ord(ciphertext[i]) - ord(key_letter))%26\n",
    "        plaintext+=(chr(ord('A') + diff))\n",
    "    return plaintext"
   ]
  },
  {
   "cell_type": "markdown",
   "id": "f82e42ac-dce3-494c-9e28-0c6d58aeb630",
   "metadata": {},
   "source": [
    "We want to test all possible keys till a valid plaintext comes out, lets start with the most possible one - SBICW and SBITW:"
   ]
  },
  {
   "cell_type": "code",
   "execution_count": 205,
   "id": "b392a47e-e04c-4057-81a1-75cf0ec509b8",
   "metadata": {},
   "outputs": [
    {
     "name": "stdout",
     "output_type": "stream",
     "text": [
      "IYSDLLWCCFMDYCPTEEIDHPWIZTPAGCIWFFFREHETNPTVPNPIXSTJFFFRSEJLTMATVADEEDEZFTZMALVEESECALPSJYEDSYLDOEJNEYDVOUAOESIXTFMERIEHIEHYPDTDEZTVNFHWTTYLNJCVCTLIEEYEHRETSIJHADNZYEEEVYETGYEYQOLCIEMLDTMEIZUYDRMOFTKSAEDREEDIENESENLSQAZCLJSLCEEHREHTSRREHAJEHTRKJNTNVLNOHVMEWIVGEOTYLTSEYLDMEVYBZRETNYIEPTPEEQOCTPQOFRFCNTNVEEPNWZREYWTVPBLEIEWRDNPVVCPZSJTBWEEZWLDRJSEOGTNOONYAYYULTPWZEHTNRJELRFCTHO\n",
      "IYSGLLWCFFMDYFPTEELDHPWLZTPAJCIWFIFREHHTNPTYPNPIASTJFIFRSEMLTMAWVADEHDEZFWZMALYEESEFALPSMYEDSBLDOEMNEYDYOUAOHSIXTIMERIHHIEHBPDTDHZTVNIHWTTBLNJCYCTLIHEYEHUETSIMHADNCYEEEYYETGBEYQOOCIEMODTMELZUYDUMOFTNSAEDUEEDIHNESEQLSQACCLJSOCEEHUEHTSUREHAMEHTRNJNTNYLNOHYMEWIYGEOTBLTSEBLDMEYYBZRHTNYIHPTPEHQOCTSQOFRICNTNYEEPNZZREYZTVPBOEIEWUDNPVYCPZSMTBWEHZWLDUJSEOJTNOOQYAYYXLTPWCEHTNUJELRICTHO\n"
     ]
    }
   ],
   "source": [
    "print(decrypt(\"SBICW\"))\n",
    "print(decrypt(\"SBItW\"))"
   ]
  },
  {
   "cell_type": "markdown",
   "id": "ded812c0-1115-42bd-a9cf-7e57dde5d2d1",
   "metadata": {},
   "source": [
    "Looks strange, lets keep on going:"
   ]
  },
  {
   "cell_type": "code",
   "execution_count": 229,
   "id": "d24e1800-8b88-48af-b441-ac36bb444a2b",
   "metadata": {},
   "outputs": [
    {
     "name": "stdout",
     "output_type": "stream",
     "text": [
      "INSMLLLCLFMSYLPTTERDHEWRZTEAPCILFOFRTHNTNETEPNEIGSTYFOFRHESLTBACVASENDEOFCZMPLEEEHELALESSYESSHLDDESNENDEOUPONSIMTOMEGINHITHHPDIDNZTKNOHWITHLNYCECTAINEYTHAETHISHASNIYETEEYEIGHEYFOUCITMUDTBERZUNDAMOUTTSATDAEESINNEHEWLSFAICLYSUCETHAEHISAREWASEHIRTJNINELNDHEMELIEGEDTHLTHEHLDBEEYBORNTNNINPTEENQORTYQOUROCNINEEEENFZRTYFTVEBUEITWADNEVECPOSSTBLENZWADAJSTOPTNDOWYANYDLTEWIEHINAJEAROCTWO\n",
      "INSMELLCLYMSYLITTERWHEWRSTEAPVILFOYRTHNMNETEINEIGLTYFOYRHESETBACOASENWEOFCSMPLEXEHELTLESSRESSHEDDESGENDEHUPONLIMTOFEGINAITHHIDIDNSTKNOAWITHENYCEVTAINXYTHAXTHISAASNIRETEEREIGHXYFOUVITMUWTBERSUNDAFOUTTLATDAXESINGEHEWESFAIVLYSUVETHAXHISAKEWASXHIRTCNINEENDHEFELIEZEDTHETHEHEDBEERBORNMNNINITEENJORTYJOUROVNINEXEENFSRTYFMVEBUXITWAWNEVEVPOSSMBLENSWADACSTOPMNDOWRANYDETEWIXHINACEAROVTWO\n",
      "INSMHLLCLBMSYLLTTERZHEWRVTEAPYILFOBRTHNPNETELNEIGOTYFOBRHESHTBACRASENZEOFCVMPLEAEHELWLESSUESSHHDDESJENDEKUPONOIMTOIEGINDITHHLDIDNVTKNODWITHHNYCEYTAINAYTHAATHISDASNIUETEEUEIGHAYFOUYITMUZTBERVUNDAIOUTTOATDAAESINJEHEWHSFAIYLYSUYETHAAHISANEWASAHIRTFNINEHNDHEIELIECEDTHHTHEHHDBEEUBORNPNNINLTEENMORTYMOUROYNINEAEENFVRTYFPVEBUAITWAZNEVEYPOSSPBLENVWADAFSTOPPNDOWUANYDHTEWIAHINAFEAROYTWO\n",
      "INSMALLCLUMSYLETTERSHEWROTEAPRILFOURTHNINETEENEIGHTYFOURHESATBACKASENSEOFCOMPLETEHELPLESSNESSHADDESCENDEDUPONHIMTOBEGINWITHHEDIDNOTKNOWWITHANYCERTAINTYTHATTHISWASNINETEENEIGHTYFOURITMUSTBEROUNDABOUTTHATDATESINCEHEWASFAIRLYSURETHATHISAGEWASTHIRTYNINEANDHEBELIEVEDTHATHEHADBEENBORNINNINETEENFORTYFOURORNINETEENFORTYFIVEBUTITWASNEVERPOSSIBLENOWADAYSTOPINDOWNANYDATEWITHINAYEARORTWO\n"
     ]
    }
   ],
   "source": [
    "for i in range(4**5):\n",
    "    string_candidate=\"\"\n",
    "    for j in range(5):\n",
    "        string_candidate+=key_candidates[j][round(i/4**j)%4]\n",
    "    if string_candidate.startswith(\"SMIT\"):\n",
    "        print(decrypt(string_candidate))"
   ]
  }
 ],
 "metadata": {
  "kernelspec": {
   "display_name": "Python 3 (ipykernel)",
   "language": "python",
   "name": "python3"
  },
  "language_info": {
   "codemirror_mode": {
    "name": "ipython",
    "version": 3
   },
   "file_extension": ".py",
   "mimetype": "text/x-python",
   "name": "python",
   "nbconvert_exporter": "python",
   "pygments_lexer": "ipython3",
   "version": "3.9.12"
  }
 },
 "nbformat": 4,
 "nbformat_minor": 5
}
