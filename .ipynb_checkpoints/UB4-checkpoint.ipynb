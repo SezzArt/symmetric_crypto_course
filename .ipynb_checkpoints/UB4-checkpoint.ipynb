{
 "cells": [
  {
   "cell_type": "markdown",
   "id": "47879560-0220-4dc9-b473-51bb66145a78",
   "metadata": {},
   "source": [
    "It's easiest to implement the S-Box as a lookup table"
   ]
  },
  {
   "cell_type": "code",
   "execution_count": 165,
   "id": "f099aa57-b5ba-4856-b0ec-b01bad411aa4",
   "metadata": {},
   "outputs": [],
   "source": [
    "sbox_lookup = [\n",
    "0x63, 0x7c, 0x77, 0x7b, 0xf2, 0x6b, 0x6f, 0xc5, 0x30, 0x01, 0x67, 0x2b, 0xfe, 0xd7, 0xab, 0x76,\n",
    "0xca, 0x82, 0xc9, 0x7d, 0xfa, 0x59, 0x47, 0xf0, 0xad, 0xd4, 0xa2, 0xaf, 0x9c, 0xa4, 0x72, 0xc0,\n",
    "0xb7, 0xfd, 0x93, 0x26, 0x36, 0x3f, 0xf7, 0xcc, 0x34, 0xa5, 0xe5, 0xf1, 0x71, 0xd8, 0x31, 0x15,\n",
    "0x04, 0xc7, 0x23, 0xc3, 0x18, 0x96, 0x05, 0x9a, 0x07, 0x12, 0x80, 0xe2, 0xeb, 0x27, 0xb2, 0x75,\n",
    "0x09, 0x83, 0x2c, 0x1a, 0x1b, 0x6e, 0x5a, 0xa0, 0x52, 0x3b, 0xd6, 0xb3, 0x29, 0xe3, 0x2f, 0x84,\n",
    "0x53, 0xd1, 0x00, 0xed, 0x20, 0xfc, 0xb1, 0x5b, 0x6a, 0xcb, 0xbe, 0x39, 0x4a, 0x4c, 0x58, 0xcf,\n",
    "0xd0, 0xef, 0xaa, 0xfb, 0x43, 0x4d, 0x33, 0x85, 0x45, 0xf9, 0x02, 0x7f, 0x50, 0x3c, 0x9f, 0xa8,\n",
    "0x51, 0xa3, 0x40, 0x8f, 0x92, 0x9d, 0x38, 0xf5, 0xbc, 0xb6, 0xda, 0x21, 0x10, 0xff, 0xf3, 0xd2,\n",
    "0xcd, 0x0c, 0x13, 0xec, 0x5f, 0x97, 0x44, 0x17, 0xc4, 0xa7, 0x7e, 0x3d, 0x64, 0x5d, 0x19, 0x73,\n",
    "0x60, 0x81, 0x4f, 0xdc, 0x22, 0x2a, 0x90, 0x88, 0x46, 0xee, 0xb8, 0x14, 0xde, 0x5e, 0x0b, 0xdb,\n",
    "0xe0, 0x32, 0x3a, 0x0a, 0x49, 0x06, 0x24, 0x5c, 0xc2, 0xd3, 0xac, 0x62, 0x91, 0x95, 0xe4, 0x79,\n",
    "0xe7, 0xc8, 0x37, 0x6d, 0x8d, 0xd5, 0x4e, 0xa9, 0x6c, 0x56, 0xf4, 0xea, 0x65, 0x7a, 0xae, 0x08,\n",
    "0xba, 0x78, 0x25, 0x2e, 0x1c, 0xa6, 0xb4, 0xc6, 0xe8, 0xdd, 0x74, 0x1f, 0x4b, 0xbd, 0x8b, 0x8a,\n",
    "0x70, 0x3e, 0xb5, 0x66, 0x48, 0x03, 0xf6, 0x0e, 0x61, 0x35, 0x57, 0xb9, 0x86, 0xc1, 0x1d, 0x9e,\n",
    "0xe1, 0xf8, 0x98, 0x11, 0x69, 0xd9, 0x8e, 0x94, 0x9b, 0x1e, 0x87, 0xe9, 0xce, 0x55, 0x28, 0xdf,\n",
    "0x8c, 0xa1, 0x89, 0x0d, 0xbf, 0xe6, 0x42, 0x68, 0x41, 0x99, 0x2d, 0x0f, 0xb0, 0x54, 0xbb, 0x16,\n",
    "]\n",
    "\n",
    "def int_to_bin(number:int, mode=\"AES\"):\n",
    "    if mode == \"AES\":\n",
    "        return '{0:08b}'.format(number)\n",
    "    elif mode == \"DES_in\":\n",
    "        return '{0:06b}'.format(number)\n",
    "    else: \n",
    "        return '{0:04b}'.format(number)\n",
    "\n",
    "def get_hamming_weight(number:int):\n",
    "    return sum([number&(1<<i)>0 for i in range(8)])\n",
    "\n",
    "def dot_product(first:int, second:int):\n",
    "    product = first&second\n",
    "    hw = get_hamming_weight(product)\n",
    "    return hw % 2\n",
    "\n",
    "#The AES S-box gets an integer and returns the corresponding integer\n",
    "def AES_sbox(message:int):\n",
    "    return sbox_lookup[message]"
   ]
  },
  {
   "cell_type": "code",
   "execution_count": 166,
   "id": "0f5a2f6a-eb60-40b3-afab-dbd4d172f4c4",
   "metadata": {},
   "outputs": [],
   "source": [
    "def palphabetaS_AES(alpha:int, beta:int):\n",
    "    occurances = {0:0,1:0}\n",
    "    for x in range(256):\n",
    "        oplus_sum = (dot_product(alpha, x) + dot_product(beta, AES_sbox(x)))%2\n",
    "        occurances[oplus_sum] += 1\n",
    "    return occurances"
   ]
  },
  {
   "cell_type": "raw",
   "id": "2b9e9087-137b-44bd-b835-8d588cbbfe10",
   "metadata": {},
   "source": [
    "A function that will run through all possible relations and pick the best one"
   ]
  },
  {
   "cell_type": "code",
   "execution_count": 167,
   "id": "a6b2f1a9-4579-4688-9bd1-b8fbda309235",
   "metadata": {
    "tags": []
   },
   "outputs": [],
   "source": [
    "def find_best_relation_AES():\n",
    "    max_alpha = 0\n",
    "    max_beta = 0\n",
    "    max_value = 0\n",
    "    for alpha in range(256):\n",
    "        if (alpha%50) == 0:\n",
    "            print(alpha)\n",
    "        for beta in range(256):\n",
    "            if alpha==0 and beta==0:\n",
    "                continue\n",
    "            occurances = palphabetaS_AES(alpha,beta)\n",
    "            better_probability_set = max(occurances, key = occurances.get)\n",
    "            better_probability = occurances[better_probability_set]\n",
    "            if better_probability > max_value:\n",
    "                max_value = better_probability\n",
    "                max_alpha = alpha\n",
    "                max_beta = beta\n",
    "    return max_alpha,max_beta"
   ]
  },
  {
   "cell_type": "code",
   "execution_count": 168,
   "id": "21562607-5de7-48c3-a87c-71cea5a4a0d8",
   "metadata": {
    "tags": []
   },
   "outputs": [
    {
     "name": "stdout",
     "output_type": "stream",
     "text": [
      "0\n",
      "50\n",
      "100\n",
      "150\n",
      "200\n",
      "250\n"
     ]
    },
    {
     "data": {
      "text/plain": [
       "(1, 72)"
      ]
     },
     "execution_count": 168,
     "metadata": {},
     "output_type": "execute_result"
    }
   ],
   "source": [
    "find_best_relation_AES()"
   ]
  },
  {
   "cell_type": "code",
   "execution_count": 153,
   "id": "f9fd6ff1-4bba-42bd-aa16-82d619df3536",
   "metadata": {},
   "outputs": [
    {
     "data": {
      "text/plain": [
       "{0: 112, 1: 144}"
      ]
     },
     "execution_count": 153,
     "metadata": {},
     "output_type": "execute_result"
    }
   ],
   "source": [
    "palphabetaS_AES(1,72)"
   ]
  },
  {
   "cell_type": "code",
   "execution_count": 155,
   "id": "c15833d5-4e9c-405a-a91b-6d8b01ba4437",
   "metadata": {},
   "outputs": [
    {
     "data": {
      "text/plain": [
       "0.015625"
      ]
     },
     "execution_count": 155,
     "metadata": {},
     "output_type": "execute_result"
    }
   ],
   "source": [
    "potential = (2*(144/256)-1)**2\n",
    "potential"
   ]
  },
  {
   "cell_type": "markdown",
   "id": "c8dd8b1e-3071-407d-8b8a-4bc4f90e897f",
   "metadata": {},
   "source": [
    "Now we want to do the same for DES"
   ]
  },
  {
   "cell_type": "code",
   "execution_count": 193,
   "id": "2b51fb8f-f50c-4c53-88e8-c8afa3901ffb",
   "metadata": {},
   "outputs": [],
   "source": [
    "des_sbox_lookup = [[2, 12, 4, 1, 7, 10, 11, 6, 8, 5, 3, 15, 13, 0, 14, 9],\n",
    "[14, 11, 2, 12, 4, 7, 13, 1, 5, 0, 15, 10, 3, 9, 8, 6],\n",
    "[4, 2, 1, 11, 10, 13, 7, 8, 15, 9, 12, 5, 6, 3, 0, 14],\n",
    "[11, 8, 12, 7, 1, 14, 2, 13, 6, 15, 0, 9, 10, 4, 5, 3]]\n",
    "\n",
    "def DES_sbox(message:int):\n",
    "    binary = int_to_bin(message, \"DES_in\")\n",
    "    row = binary[0]+binary[5]\n",
    "    column = binary[1]+binary[2]+binary[3]+binary[4]\n",
    "    return des_sbox_lookup[int(row, 2)][int(column, 2)]\n",
    "\n",
    "def palphabetaS_DES(alpha:int, beta:int):\n",
    "    occurances = {0:0,1:0}\n",
    "    for x in range(2**6):\n",
    "        oplus_sum = (dot_product(alpha, x) + dot_product(beta, DES_sbox(x)))%2\n",
    "        occurances[oplus_sum] += 1\n",
    "    return occurances"
   ]
  },
  {
   "cell_type": "code",
   "execution_count": 195,
   "id": "78e6f4f1-8cc5-4b64-b65c-086a8ed71b36",
   "metadata": {},
   "outputs": [],
   "source": [
    "def find_best_relation_DES():\n",
    "    max_alpha = 0\n",
    "    max_beta = 0\n",
    "    max_value = 0\n",
    "    for alpha in range(2**6):\n",
    "        if (alpha%50) == 0:\n",
    "            print(alpha)\n",
    "        for beta in range(2**4):\n",
    "            if alpha==0 and beta==0:\n",
    "                continue\n",
    "            occurances = palphabetaS_DES(alpha,beta)\n",
    "            better_probability_set = max(occurances, key = occurances.get)\n",
    "            better_probability = occurances[better_probability_set]\n",
    "            if better_probability > max_value:\n",
    "                max_value = better_probability\n",
    "                max_alpha = alpha\n",
    "                max_beta = beta\n",
    "    return max_alpha,max_beta"
   ]
  },
  {
   "cell_type": "code",
   "execution_count": 196,
   "id": "17cf4f18-7357-454c-b0f8-114756b64d90",
   "metadata": {},
   "outputs": [
    {
     "name": "stdout",
     "output_type": "stream",
     "text": [
      "0\n",
      "50\n"
     ]
    },
    {
     "data": {
      "text/plain": [
       "(16, 15)"
      ]
     },
     "execution_count": 196,
     "metadata": {},
     "output_type": "execute_result"
    }
   ],
   "source": [
    "find_best_relation_DES()"
   ]
  },
  {
   "cell_type": "code",
   "execution_count": 200,
   "id": "3a3be260-22d6-4401-9241-aca47c615d05",
   "metadata": {},
   "outputs": [
    {
     "data": {
      "text/plain": [
       "{0: 12, 1: 52}"
      ]
     },
     "execution_count": 200,
     "metadata": {},
     "output_type": "execute_result"
    }
   ],
   "source": [
    "palphabetaS_DES(16,15)"
   ]
  },
  {
   "cell_type": "code",
   "execution_count": 201,
   "id": "5c1086db-f1de-4b62-9970-9711a20becd0",
   "metadata": {},
   "outputs": [
    {
     "data": {
      "text/plain": [
       "0.390625"
      ]
     },
     "execution_count": 201,
     "metadata": {},
     "output_type": "execute_result"
    }
   ],
   "source": [
    "potential = (2*(52/64)-1)**2\n",
    "potential"
   ]
  },
  {
   "cell_type": "code",
   "execution_count": null,
   "id": "b68d5a77-fb0b-4e60-bc47-fa5e00dc1efc",
   "metadata": {},
   "outputs": [],
   "source": []
  }
 ],
 "metadata": {
  "kernelspec": {
   "display_name": "Python 3 (ipykernel)",
   "language": "python",
   "name": "python3"
  },
  "language_info": {
   "codemirror_mode": {
    "name": "ipython",
    "version": 3
   },
   "file_extension": ".py",
   "mimetype": "text/x-python",
   "name": "python",
   "nbconvert_exporter": "python",
   "pygments_lexer": "ipython3",
   "version": "3.9.12"
  }
 },
 "nbformat": 4,
 "nbformat_minor": 5
}
